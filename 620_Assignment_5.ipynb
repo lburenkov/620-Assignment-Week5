{
  "nbformat": 4,
  "nbformat_minor": 0,
  "metadata": {
    "colab": {
      "provenance": []
    },
    "kernelspec": {
      "name": "python3",
      "display_name": "Python 3"
    },
    "language_info": {
      "name": "python"
    }
  },
  "cells": [
    {
      "cell_type": "markdown",
      "source": [
        "**Assingment week 5:  Document Classification**\n",
        "\n",
        "Team:\n",
        "\n",
        "Khyati Kaik\n",
        "\n",
        "Laura Puebla"
      ],
      "metadata": {
        "id": "q0Vl1XbM6BDt"
      }
    },
    {
      "cell_type": "markdown",
      "source": [
        "**About this excercise:**\n",
        "\n",
        "It can be useful to be able to classify new \"test\" documents using already classified \"training\" documents.  A common example is using a corpus of labeled spam and ham (non-spam) e-mails to predict whether or not a new document is spam.  Here is one example of such data:  UCI Machine Learning Repository: Spambase Data Set [UCI Machine Learning Repository: Spambase Data Set](http://archive.ics.uci.edu/dataset/94/spambase)"
      ],
      "metadata": {
        "id": "HqGGKEmV6kfI"
      }
    },
    {
      "cell_type": "markdown",
      "source": [
        "Importing libraries"
      ],
      "metadata": {
        "id": "SoxxTcMv727z"
      }
    },
    {
      "cell_type": "code",
      "source": [
        "import nltk\n",
        "import numpy as np\n",
        "import pandas as pd\n",
        "%matplotlib inline"
      ],
      "metadata": {
        "id": "HifmXjC4mCph"
      },
      "execution_count": 2,
      "outputs": []
    },
    {
      "cell_type": "code",
      "execution_count": 3,
      "metadata": {
        "colab": {
          "base_uri": "https://localhost:8080/",
          "height": 299
        },
        "id": "zMoyaeQGlJLn",
        "outputId": "3cbc918c-51f4-42d7-8ac2-fb3c000d3c97"
      },
      "outputs": [
        {
          "output_type": "execute_result",
          "data": {
            "text/plain": [
              "   word_freq_make  word_freq_address  word_freq_all  word_freq_3d  \\\n",
              "0            0.00               0.64           0.64           0.0   \n",
              "1            0.21               0.28           0.50           0.0   \n",
              "2            0.06               0.00           0.71           0.0   \n",
              "3            0.00               0.00           0.00           0.0   \n",
              "4            0.00               0.00           0.00           0.0   \n",
              "\n",
              "   word_freq_our  word_freq_over  word_freq_remove  word_freq_internet  \\\n",
              "0           0.32            0.00              0.00                0.00   \n",
              "1           0.14            0.28              0.21                0.07   \n",
              "2           1.23            0.19              0.19                0.12   \n",
              "3           0.63            0.00              0.31                0.63   \n",
              "4           0.63            0.00              0.31                0.63   \n",
              "\n",
              "   word_freq_order  word_freq_mail  ...  char_freq_;  char_freq_(  \\\n",
              "0             0.00            0.00  ...         0.00        0.000   \n",
              "1             0.00            0.94  ...         0.00        0.132   \n",
              "2             0.64            0.25  ...         0.01        0.143   \n",
              "3             0.31            0.63  ...         0.00        0.137   \n",
              "4             0.31            0.63  ...         0.00        0.135   \n",
              "\n",
              "   char_freq_[  char_freq_!  char_freq_$  char_freq_#  \\\n",
              "0          0.0        0.778        0.000        0.000   \n",
              "1          0.0        0.372        0.180        0.048   \n",
              "2          0.0        0.276        0.184        0.010   \n",
              "3          0.0        0.137        0.000        0.000   \n",
              "4          0.0        0.135        0.000        0.000   \n",
              "\n",
              "   capital_run_length_average  capital_run_length_longest  \\\n",
              "0                       3.756                          61   \n",
              "1                       5.114                         101   \n",
              "2                       9.821                         485   \n",
              "3                       3.537                          40   \n",
              "4                       3.537                          40   \n",
              "\n",
              "   capital_run_length_total  spam  \n",
              "0                       278     1  \n",
              "1                      1028     1  \n",
              "2                      2259     1  \n",
              "3                       191     1  \n",
              "4                       191     1  \n",
              "\n",
              "[5 rows x 58 columns]"
            ],
            "text/html": [
              "\n",
              "  <div id=\"df-12056cac-412e-4d63-86fa-3884e3d076fe\">\n",
              "    <div class=\"colab-df-container\">\n",
              "      <div>\n",
              "<style scoped>\n",
              "    .dataframe tbody tr th:only-of-type {\n",
              "        vertical-align: middle;\n",
              "    }\n",
              "\n",
              "    .dataframe tbody tr th {\n",
              "        vertical-align: top;\n",
              "    }\n",
              "\n",
              "    .dataframe thead th {\n",
              "        text-align: right;\n",
              "    }\n",
              "</style>\n",
              "<table border=\"1\" class=\"dataframe\">\n",
              "  <thead>\n",
              "    <tr style=\"text-align: right;\">\n",
              "      <th></th>\n",
              "      <th>word_freq_make</th>\n",
              "      <th>word_freq_address</th>\n",
              "      <th>word_freq_all</th>\n",
              "      <th>word_freq_3d</th>\n",
              "      <th>word_freq_our</th>\n",
              "      <th>word_freq_over</th>\n",
              "      <th>word_freq_remove</th>\n",
              "      <th>word_freq_internet</th>\n",
              "      <th>word_freq_order</th>\n",
              "      <th>word_freq_mail</th>\n",
              "      <th>...</th>\n",
              "      <th>char_freq_;</th>\n",
              "      <th>char_freq_(</th>\n",
              "      <th>char_freq_[</th>\n",
              "      <th>char_freq_!</th>\n",
              "      <th>char_freq_$</th>\n",
              "      <th>char_freq_#</th>\n",
              "      <th>capital_run_length_average</th>\n",
              "      <th>capital_run_length_longest</th>\n",
              "      <th>capital_run_length_total</th>\n",
              "      <th>spam</th>\n",
              "    </tr>\n",
              "  </thead>\n",
              "  <tbody>\n",
              "    <tr>\n",
              "      <th>0</th>\n",
              "      <td>0.00</td>\n",
              "      <td>0.64</td>\n",
              "      <td>0.64</td>\n",
              "      <td>0.0</td>\n",
              "      <td>0.32</td>\n",
              "      <td>0.00</td>\n",
              "      <td>0.00</td>\n",
              "      <td>0.00</td>\n",
              "      <td>0.00</td>\n",
              "      <td>0.00</td>\n",
              "      <td>...</td>\n",
              "      <td>0.00</td>\n",
              "      <td>0.000</td>\n",
              "      <td>0.0</td>\n",
              "      <td>0.778</td>\n",
              "      <td>0.000</td>\n",
              "      <td>0.000</td>\n",
              "      <td>3.756</td>\n",
              "      <td>61</td>\n",
              "      <td>278</td>\n",
              "      <td>1</td>\n",
              "    </tr>\n",
              "    <tr>\n",
              "      <th>1</th>\n",
              "      <td>0.21</td>\n",
              "      <td>0.28</td>\n",
              "      <td>0.50</td>\n",
              "      <td>0.0</td>\n",
              "      <td>0.14</td>\n",
              "      <td>0.28</td>\n",
              "      <td>0.21</td>\n",
              "      <td>0.07</td>\n",
              "      <td>0.00</td>\n",
              "      <td>0.94</td>\n",
              "      <td>...</td>\n",
              "      <td>0.00</td>\n",
              "      <td>0.132</td>\n",
              "      <td>0.0</td>\n",
              "      <td>0.372</td>\n",
              "      <td>0.180</td>\n",
              "      <td>0.048</td>\n",
              "      <td>5.114</td>\n",
              "      <td>101</td>\n",
              "      <td>1028</td>\n",
              "      <td>1</td>\n",
              "    </tr>\n",
              "    <tr>\n",
              "      <th>2</th>\n",
              "      <td>0.06</td>\n",
              "      <td>0.00</td>\n",
              "      <td>0.71</td>\n",
              "      <td>0.0</td>\n",
              "      <td>1.23</td>\n",
              "      <td>0.19</td>\n",
              "      <td>0.19</td>\n",
              "      <td>0.12</td>\n",
              "      <td>0.64</td>\n",
              "      <td>0.25</td>\n",
              "      <td>...</td>\n",
              "      <td>0.01</td>\n",
              "      <td>0.143</td>\n",
              "      <td>0.0</td>\n",
              "      <td>0.276</td>\n",
              "      <td>0.184</td>\n",
              "      <td>0.010</td>\n",
              "      <td>9.821</td>\n",
              "      <td>485</td>\n",
              "      <td>2259</td>\n",
              "      <td>1</td>\n",
              "    </tr>\n",
              "    <tr>\n",
              "      <th>3</th>\n",
              "      <td>0.00</td>\n",
              "      <td>0.00</td>\n",
              "      <td>0.00</td>\n",
              "      <td>0.0</td>\n",
              "      <td>0.63</td>\n",
              "      <td>0.00</td>\n",
              "      <td>0.31</td>\n",
              "      <td>0.63</td>\n",
              "      <td>0.31</td>\n",
              "      <td>0.63</td>\n",
              "      <td>...</td>\n",
              "      <td>0.00</td>\n",
              "      <td>0.137</td>\n",
              "      <td>0.0</td>\n",
              "      <td>0.137</td>\n",
              "      <td>0.000</td>\n",
              "      <td>0.000</td>\n",
              "      <td>3.537</td>\n",
              "      <td>40</td>\n",
              "      <td>191</td>\n",
              "      <td>1</td>\n",
              "    </tr>\n",
              "    <tr>\n",
              "      <th>4</th>\n",
              "      <td>0.00</td>\n",
              "      <td>0.00</td>\n",
              "      <td>0.00</td>\n",
              "      <td>0.0</td>\n",
              "      <td>0.63</td>\n",
              "      <td>0.00</td>\n",
              "      <td>0.31</td>\n",
              "      <td>0.63</td>\n",
              "      <td>0.31</td>\n",
              "      <td>0.63</td>\n",
              "      <td>...</td>\n",
              "      <td>0.00</td>\n",
              "      <td>0.135</td>\n",
              "      <td>0.0</td>\n",
              "      <td>0.135</td>\n",
              "      <td>0.000</td>\n",
              "      <td>0.000</td>\n",
              "      <td>3.537</td>\n",
              "      <td>40</td>\n",
              "      <td>191</td>\n",
              "      <td>1</td>\n",
              "    </tr>\n",
              "  </tbody>\n",
              "</table>\n",
              "<p>5 rows × 58 columns</p>\n",
              "</div>\n",
              "      <button class=\"colab-df-convert\" onclick=\"convertToInteractive('df-12056cac-412e-4d63-86fa-3884e3d076fe')\"\n",
              "              title=\"Convert this dataframe to an interactive table.\"\n",
              "              style=\"display:none;\">\n",
              "        \n",
              "  <svg xmlns=\"http://www.w3.org/2000/svg\" height=\"24px\"viewBox=\"0 0 24 24\"\n",
              "       width=\"24px\">\n",
              "    <path d=\"M0 0h24v24H0V0z\" fill=\"none\"/>\n",
              "    <path d=\"M18.56 5.44l.94 2.06.94-2.06 2.06-.94-2.06-.94-.94-2.06-.94 2.06-2.06.94zm-11 1L8.5 8.5l.94-2.06 2.06-.94-2.06-.94L8.5 2.5l-.94 2.06-2.06.94zm10 10l.94 2.06.94-2.06 2.06-.94-2.06-.94-.94-2.06-.94 2.06-2.06.94z\"/><path d=\"M17.41 7.96l-1.37-1.37c-.4-.4-.92-.59-1.43-.59-.52 0-1.04.2-1.43.59L10.3 9.45l-7.72 7.72c-.78.78-.78 2.05 0 2.83L4 21.41c.39.39.9.59 1.41.59.51 0 1.02-.2 1.41-.59l7.78-7.78 2.81-2.81c.8-.78.8-2.07 0-2.86zM5.41 20L4 18.59l7.72-7.72 1.47 1.35L5.41 20z\"/>\n",
              "  </svg>\n",
              "      </button>\n",
              "      \n",
              "  <style>\n",
              "    .colab-df-container {\n",
              "      display:flex;\n",
              "      flex-wrap:wrap;\n",
              "      gap: 12px;\n",
              "    }\n",
              "\n",
              "    .colab-df-convert {\n",
              "      background-color: #E8F0FE;\n",
              "      border: none;\n",
              "      border-radius: 50%;\n",
              "      cursor: pointer;\n",
              "      display: none;\n",
              "      fill: #1967D2;\n",
              "      height: 32px;\n",
              "      padding: 0 0 0 0;\n",
              "      width: 32px;\n",
              "    }\n",
              "\n",
              "    .colab-df-convert:hover {\n",
              "      background-color: #E2EBFA;\n",
              "      box-shadow: 0px 1px 2px rgba(60, 64, 67, 0.3), 0px 1px 3px 1px rgba(60, 64, 67, 0.15);\n",
              "      fill: #174EA6;\n",
              "    }\n",
              "\n",
              "    [theme=dark] .colab-df-convert {\n",
              "      background-color: #3B4455;\n",
              "      fill: #D2E3FC;\n",
              "    }\n",
              "\n",
              "    [theme=dark] .colab-df-convert:hover {\n",
              "      background-color: #434B5C;\n",
              "      box-shadow: 0px 1px 3px 1px rgba(0, 0, 0, 0.15);\n",
              "      filter: drop-shadow(0px 1px 2px rgba(0, 0, 0, 0.3));\n",
              "      fill: #FFFFFF;\n",
              "    }\n",
              "  </style>\n",
              "\n",
              "      <script>\n",
              "        const buttonEl =\n",
              "          document.querySelector('#df-12056cac-412e-4d63-86fa-3884e3d076fe button.colab-df-convert');\n",
              "        buttonEl.style.display =\n",
              "          google.colab.kernel.accessAllowed ? 'block' : 'none';\n",
              "\n",
              "        async function convertToInteractive(key) {\n",
              "          const element = document.querySelector('#df-12056cac-412e-4d63-86fa-3884e3d076fe');\n",
              "          const dataTable =\n",
              "            await google.colab.kernel.invokeFunction('convertToInteractive',\n",
              "                                                     [key], {});\n",
              "          if (!dataTable) return;\n",
              "\n",
              "          const docLinkHtml = 'Like what you see? Visit the ' +\n",
              "            '<a target=\"_blank\" href=https://colab.research.google.com/notebooks/data_table.ipynb>data table notebook</a>'\n",
              "            + ' to learn more about interactive tables.';\n",
              "          element.innerHTML = '';\n",
              "          dataTable['output_type'] = 'display_data';\n",
              "          await google.colab.output.renderOutput(dataTable, element);\n",
              "          const docLink = document.createElement('div');\n",
              "          docLink.innerHTML = docLinkHtml;\n",
              "          element.appendChild(docLink);\n",
              "        }\n",
              "      </script>\n",
              "    </div>\n",
              "  </div>\n",
              "  "
            ]
          },
          "metadata": {},
          "execution_count": 3
        }
      ],
      "source": [
        "names = [\"word_freq_make\", \"word_freq_address\", \"word_freq_all\", \"word_freq_3d\",\\\n",
        "         \"word_freq_our\", \"word_freq_over\", \"word_freq_remove\", \"word_freq_internet\",\\\n",
        "         \"word_freq_order\", \"word_freq_mail\", \"word_freq_receive\", \"word_freq_will\",\\\n",
        "         \"word_freq_people\", \"word_freq_report\", \"word_freq_addresses\", \\\n",
        "         \"word_freq_free\", \"word_freq_business\", \"word_freq_email\", \"word_freq_you\", \\\n",
        "         \"word_freq_credit\", \"word_freq_your\", \"word_freq_font\", \"word_freq_000\", \\\n",
        "         \"word_freq_money\", \"word_freq_hp\", \"word_freq_hpl\", \"word_freq_george\",\\\n",
        "         \"word_freq_650\", \"word_freq_lab\", \"word_freq_labs\", \"word_freq_telnet\", \\\n",
        "         \"word_freq_857\", \"word_freq_data\", \"word_freq_415\", \"word_freq_85\", \\\n",
        "         \"word_freq_technology\", \"word_freq_1999\", \"word_freq_parts\", \"word_freq_pm\",\\\n",
        "         \"word_freq_direct\", \"word_freq_cs\", \"word_freq_meeting\", \"word_freq_original\",\\\n",
        "         \"word_freq_project\", \"word_freq_re\", \"word_freq_edu\", \"word_freq_table\",\\\n",
        "         \"word_freq_conference\", \"char_freq_;\", \"char_freq_(\", \"char_freq_[\", \\\n",
        "         \"char_freq_!\", \"char_freq_$\", \"char_freq_#\", \"capital_run_length_average\", \\\n",
        "         \"capital_run_length_longest\", \"capital_run_length_total\", \"spam\"]\n",
        "\n",
        "\n",
        "spam_data = pd.read_csv(\"http://archive.ics.uci.edu/ml/machine-learning-databases/spambase/spambase.data\", \\\n",
        "                        names = names)\n",
        "\n",
        "spam_data.head()"
      ]
    },
    {
      "cell_type": "code",
      "source": [
        "# Variable types\n",
        "print(spam_data.dtypes)"
      ],
      "metadata": {
        "colab": {
          "base_uri": "https://localhost:8080/"
        },
        "id": "g3eBvIdulZsG",
        "outputId": "1ad024a3-8090-4fe7-b428-4953e28a5541"
      },
      "execution_count": 4,
      "outputs": [
        {
          "output_type": "stream",
          "name": "stdout",
          "text": [
            "word_freq_make                float64\n",
            "word_freq_address             float64\n",
            "word_freq_all                 float64\n",
            "word_freq_3d                  float64\n",
            "word_freq_our                 float64\n",
            "word_freq_over                float64\n",
            "word_freq_remove              float64\n",
            "word_freq_internet            float64\n",
            "word_freq_order               float64\n",
            "word_freq_mail                float64\n",
            "word_freq_receive             float64\n",
            "word_freq_will                float64\n",
            "word_freq_people              float64\n",
            "word_freq_report              float64\n",
            "word_freq_addresses           float64\n",
            "word_freq_free                float64\n",
            "word_freq_business            float64\n",
            "word_freq_email               float64\n",
            "word_freq_you                 float64\n",
            "word_freq_credit              float64\n",
            "word_freq_your                float64\n",
            "word_freq_font                float64\n",
            "word_freq_000                 float64\n",
            "word_freq_money               float64\n",
            "word_freq_hp                  float64\n",
            "word_freq_hpl                 float64\n",
            "word_freq_george              float64\n",
            "word_freq_650                 float64\n",
            "word_freq_lab                 float64\n",
            "word_freq_labs                float64\n",
            "word_freq_telnet              float64\n",
            "word_freq_857                 float64\n",
            "word_freq_data                float64\n",
            "word_freq_415                 float64\n",
            "word_freq_85                  float64\n",
            "word_freq_technology          float64\n",
            "word_freq_1999                float64\n",
            "word_freq_parts               float64\n",
            "word_freq_pm                  float64\n",
            "word_freq_direct              float64\n",
            "word_freq_cs                  float64\n",
            "word_freq_meeting             float64\n",
            "word_freq_original            float64\n",
            "word_freq_project             float64\n",
            "word_freq_re                  float64\n",
            "word_freq_edu                 float64\n",
            "word_freq_table               float64\n",
            "word_freq_conference          float64\n",
            "char_freq_;                   float64\n",
            "char_freq_(                   float64\n",
            "char_freq_[                   float64\n",
            "char_freq_!                   float64\n",
            "char_freq_$                   float64\n",
            "char_freq_#                   float64\n",
            "capital_run_length_average    float64\n",
            "capital_run_length_longest      int64\n",
            "capital_run_length_total        int64\n",
            "spam                            int64\n",
            "dtype: object\n"
          ]
        }
      ]
    },
    {
      "cell_type": "code",
      "source": [
        "# Count spam and non-spam\n",
        "count_spam = len(spam_data[spam_data.spam==1])\n",
        "count_nonspam = len(spam_data[spam_data.spam==0])\n",
        "\n"
      ],
      "metadata": {
        "id": "3OvTiA5glk1K"
      },
      "execution_count": 5,
      "outputs": []
    },
    {
      "cell_type": "code",
      "source": [
        "#Printing count Spam and Non-Spam\n",
        "print (\"Spam: %d\" %count_spam)\n",
        "print (\"Non-spam: %d\" %count_nonspam)"
      ],
      "metadata": {
        "colab": {
          "base_uri": "https://localhost:8080/"
        },
        "id": "SJZyjPd3lVck",
        "outputId": "f8557ef6-6309-4104-c24c-30a1be0358d1"
      },
      "execution_count": 6,
      "outputs": [
        {
          "output_type": "stream",
          "name": "stdout",
          "text": [
            "Spam: 1813\n",
            "Non-spam: 2788\n"
          ]
        }
      ]
    },
    {
      "cell_type": "code",
      "source": [
        "# Split into test, train, validate\n",
        "percTrain = 0.7\n",
        "percVal = 0.15\n",
        "percTest = 0.15\n",
        "N = len(spam_data)\n",
        "trainNum = int(percTrain * N)\n",
        "valNum = int(percVal * N)\n",
        "testNum = N - trainNum - valNum"
      ],
      "metadata": {
        "id": "r4jxSGS-nFHF"
      },
      "execution_count": 7,
      "outputs": []
    },
    {
      "cell_type": "code",
      "source": [
        "# Check targets\n",
        "print (\"Training target: %d\" %trainNum)\n",
        "print (\"Validation target: %d\" %valNum)\n",
        "print (\"Testing target: %d\" %testNum)\n",
        "print (\"Total: %d\" %(trainNum + valNum + testNum))"
      ],
      "metadata": {
        "colab": {
          "base_uri": "https://localhost:8080/"
        },
        "id": "Lz6QrPcrnL20",
        "outputId": "7928ac2a-ea7d-4908-d7a4-771d089dabec"
      },
      "execution_count": 8,
      "outputs": [
        {
          "output_type": "stream",
          "name": "stdout",
          "text": [
            "Training target: 3220\n",
            "Validation target: 690\n",
            "Testing target: 691\n",
            "Total: 4601\n"
          ]
        }
      ]
    },
    {
      "cell_type": "code",
      "source": [
        "# Split it up\n",
        "#from sklearn.cross_validation import train_test_split\n",
        "from sklearn.model_selection import train_test_split\n",
        "trainSet, testSet = train_test_split(spam_data, test_size=testNum, random_state=8)\n",
        "trainSet, valSet = train_test_split(trainSet, test_size=valNum, random_state=88)"
      ],
      "metadata": {
        "id": "QnnlZoQhnZGL"
      },
      "execution_count": 9,
      "outputs": []
    },
    {
      "cell_type": "code",
      "source": [
        "# Check lengths\n",
        "print (\"Training set: %d\" %len(trainSet))\n",
        "print (\"Validation set: %d\" %len(valSet))\n",
        "print (\"Testing set: %d\" %len(testSet))\n",
        "print (\"Total: %d\" %(len(trainSet) + len(valSet) + len(testSet)))"
      ],
      "metadata": {
        "colab": {
          "base_uri": "https://localhost:8080/"
        },
        "id": "CIEfwB6en5QF",
        "outputId": "a6611ee9-566a-4fd5-cfc8-7a24696c7c3a"
      },
      "execution_count": 10,
      "outputs": [
        {
          "output_type": "stream",
          "name": "stdout",
          "text": [
            "Training set: 3220\n",
            "Validation set: 690\n",
            "Testing set: 691\n",
            "Total: 4601\n"
          ]
        }
      ]
    },
    {
      "cell_type": "code",
      "source": [
        "##\n",
        "testSetVars = testSet.drop('spam', axis=1)"
      ],
      "metadata": {
        "id": "mMIYt-EoY0Pi"
      },
      "execution_count": 22,
      "outputs": []
    },
    {
      "cell_type": "code",
      "source": [
        "##\n",
        "testSetClass = testSet['spam']"
      ],
      "metadata": {
        "id": "Nm9JBYQTZBMS"
      },
      "execution_count": 23,
      "outputs": []
    },
    {
      "cell_type": "code",
      "source": [
        "##\n",
        "trainSetVars = trainSet.drop('spam', axis=1)"
      ],
      "metadata": {
        "id": "D66cv34AZhEy"
      },
      "execution_count": 26,
      "outputs": []
    },
    {
      "cell_type": "code",
      "source": [
        "##\n",
        "trainSetClass = trainSet['spam']"
      ],
      "metadata": {
        "id": "ewanvhIUZlCL"
      },
      "execution_count": 29,
      "outputs": []
    },
    {
      "cell_type": "code",
      "source": [
        "# Random forest - train\n",
        "from sklearn import ensemble\n"
      ],
      "metadata": {
        "id": "VDuOLv5WoFSF"
      },
      "execution_count": 11,
      "outputs": []
    },
    {
      "cell_type": "code",
      "source": [
        "from sklearn.metrics import classification_report, confusion_matrix\n",
        "\n",
        "# Train the RandomForestClassifier\n",
        "rf = ensemble.RandomForestClassifier(criterion=\"entropy\", random_state=88)\n",
        "rf_fit = rf.fit(trainSetVars, trainSetClass)\n",
        "\n",
        "# Predict on the training set\n",
        "rf_train = rf_fit.predict(trainSetVars)\n",
        "\n",
        "# Calculate and print the classification report\n",
        "print(\"Classification Report (Training Set):\")\n",
        "print(classification_report(trainSetClass, rf_train))\n",
        "\n",
        "# Calculate and print the confusion matrix\n",
        "print(\"Confusion Matrix (Training Set):\")\n",
        "print(confusion_matrix(trainSetClass, rf_train))"
      ],
      "metadata": {
        "colab": {
          "base_uri": "https://localhost:8080/"
        },
        "id": "m9FOqDFdbPpd",
        "outputId": "8891eee4-59ec-48b5-db24-54e9ffc53745"
      },
      "execution_count": 34,
      "outputs": [
        {
          "output_type": "stream",
          "name": "stdout",
          "text": [
            "Classification Report (Training Set):\n",
            "              precision    recall  f1-score   support\n",
            "\n",
            "           0       1.00      1.00      1.00      1958\n",
            "           1       1.00      1.00      1.00      1262\n",
            "\n",
            "    accuracy                           1.00      3220\n",
            "   macro avg       1.00      1.00      1.00      3220\n",
            "weighted avg       1.00      1.00      1.00      3220\n",
            "\n",
            "Confusion Matrix (Training Set):\n",
            "[[1957    1]\n",
            " [   1 1261]]\n"
          ]
        }
      ]
    },
    {
      "cell_type": "code",
      "source": [
        "from sklearn.metrics import classification_report, confusion_matrix\n",
        "\n",
        "# Predict on the test set\n",
        "rf_test = rf_fit.predict(testSetVars)\n",
        "\n",
        "# Calculate and print the classification report\n",
        "print(\"Classification Report (Test Set):\")\n",
        "print(classification_report(testSetClass, rf_test))\n",
        "\n",
        "# Calculate and print the confusion matrix\n",
        "print(\"Confusion Matrix (Test Set):\")\n",
        "print(confusion_matrix(testSetClass, rf_test))\n"
      ],
      "metadata": {
        "colab": {
          "base_uri": "https://localhost:8080/"
        },
        "id": "cn5KbFhXbjGf",
        "outputId": "fc183c11-0032-46d1-e32f-cb9ad6ab78ac"
      },
      "execution_count": 35,
      "outputs": [
        {
          "output_type": "stream",
          "name": "stdout",
          "text": [
            "Classification Report (Test Set):\n",
            "              precision    recall  f1-score   support\n",
            "\n",
            "           0       0.95      0.98      0.96       412\n",
            "           1       0.96      0.92      0.94       279\n",
            "\n",
            "    accuracy                           0.96       691\n",
            "   macro avg       0.96      0.95      0.95       691\n",
            "weighted avg       0.96      0.96      0.95       691\n",
            "\n",
            "Confusion Matrix (Test Set):\n",
            "[[402  10]\n",
            " [ 21 258]]\n"
          ]
        }
      ]
    },
    {
      "cell_type": "code",
      "source": [
        "import matplotlib.pyplot as plt\n",
        "\n",
        "# Get feature importances\n",
        "importances = rf_fit.feature_importances_\n",
        "\n",
        "# Get the corresponding feature names\n",
        "feature_names = testSetVars.columns\n",
        "\n",
        "# Sort indices based on feature importance\n",
        "indices = np.argsort(importances)[::-1]\n",
        "\n",
        "# Plot the feature importances\n",
        "plt.figure(figsize=(10, 6))\n",
        "plt.title(\"Feature Importances\")\n",
        "plt.bar(range(len(importances)), importances[indices], align=\"center\")\n",
        "plt.xticks(range(len(importances)), feature_names[indices], rotation=90)\n",
        "plt.xlabel(\"Features\")\n",
        "plt.ylabel(\"Importance\")\n",
        "plt.tight_layout()\n",
        "plt.show()\n"
      ],
      "metadata": {
        "colab": {
          "base_uri": "https://localhost:8080/",
          "height": 607
        },
        "id": "4UsjBAGOb2jc",
        "outputId": "36c0ea78-f6e5-4ce4-e542-0cebf76441bf"
      },
      "execution_count": 37,
      "outputs": [
        {
          "output_type": "display_data",
          "data": {
            "text/plain": [
              "<Figure size 1000x600 with 1 Axes>"
            ],
            "image/png": "[encoded data removed]"
          },
          "metadata": {}
        }
      ]
    },
    {
      "cell_type": "markdown",
      "source": [
        "Conclusion:\n",
        "\n",
        "Training Set:\n",
        "\n",
        "The model achieved a perfect accuracy of 1.00, indicating that it accurately classified all instances in the training set.\n",
        "Both classes (0 and 1) have precision, recall, and F1-scores of 1.00, indicating perfect performance in predicting both classes.\n",
        "The confusion matrix shows only one misclassification, with one instance falsely predicted as class 1.\n",
        "\n",
        "\n",
        "Test Set:\n",
        "\n",
        "The model achieved a high accuracy of 0.96, indicating a strong performance in classifying the instances in the test set.\n",
        "For class 0, the precision, recall, and F1-score are 0.95, 0.98, and 0.96, respectively. This indicates that the model has a high ability to correctly classify instances of class 0, with a good balance between precision and recall.\n",
        "For class 1, the precision, recall, and F1-score are 0.96, 0.92, and 0.94, respectively. This indicates that the model also performs well in correctly classifying instances of class 1, although with a slightly lower recall compared to class 0.\n",
        "The confusion matrix shows that there are some misclassifications, with 10 instances of class 0 falsely predicted as class 1 and 21 instances of class 1 falsely predicted as class 0.\n",
        "\n",
        "\n",
        "In summary, the model demonstrates excellent performance on the training set, achieving perfect accuracy and precise predictions for both classes. On the test set, the model maintains a high accuracy and exhibits a good balance between precision and recall for both classes, although there are some misclassifications. Overall, the model shows strong potential for classifying spam and non-spam emails, but there is still room for improvement, especially in reducing the number of false predictions on the test set."
      ],
      "metadata": {
        "id": "I2MXVCPGc4yz"
      }
    }
  ]
}